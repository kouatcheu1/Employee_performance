{
 "cells": [
  {
   "cell_type": "markdown",
   "id": "f8ac9200-bfb2-4276-8078-9cf6c68f1c69",
   "metadata": {},
   "source": [
    "# Productivity and Engagement Insights Using Python"
   ]
  },
  {
   "cell_type": "markdown",
   "id": "efb3e699-38f9-4822-8c19-50262eef3a3a",
   "metadata": {},
   "source": [
    "### Importing necessary libraries"
   ]
  },
  {
   "cell_type": "code",
   "execution_count": 1,
   "id": "2d049c59-d4a3-4490-8f4f-297ce0fff029",
   "metadata": {},
   "outputs": [],
   "source": [
    "import pandas as pd"
   ]
  },
  {
   "cell_type": "markdown",
   "id": "08503dcf-fd5d-4658-8078-cde77ac32f74",
   "metadata": {},
   "source": [
    "### Importing the data"
   ]
  },
  {
   "cell_type": "code",
   "execution_count": 4,
   "id": "7e72e780-860c-4475-8837-4614a5186295",
   "metadata": {},
   "outputs": [
    {
     "name": "stdout",
     "output_type": "stream",
     "text": [
      "      work_year                 job_title                    job_category  \\\n",
      "0          2023      Data DevOps Engineer                Data Engineering   \n",
      "1          2023            Data Architect  Data Architecture and Modeling   \n",
      "2          2023            Data Architect  Data Architecture and Modeling   \n",
      "3          2023            Data Scientist       Data Science and Research   \n",
      "4          2023            Data Scientist       Data Science and Research   \n",
      "...         ...                       ...                             ...   \n",
      "9350       2021           Data Specialist    Data Management and Strategy   \n",
      "9351       2020            Data Scientist       Data Science and Research   \n",
      "9352       2021  Principal Data Scientist       Data Science and Research   \n",
      "9353       2020            Data Scientist       Data Science and Research   \n",
      "9354       2020     Business Data Analyst                   Data Analysis   \n",
      "\n",
      "     salary_currency  salary employee_residence experience_level  \\\n",
      "0                EUR   88000            Germany        Mid-level   \n",
      "1                USD  186000      United States           Senior   \n",
      "2                USD   81800      United States           Senior   \n",
      "3                USD  212000      United States           Senior   \n",
      "4                USD   93300      United States           Senior   \n",
      "...              ...     ...                ...              ...   \n",
      "9350             USD  165000      United States           Senior   \n",
      "9351             USD  412000      United States           Senior   \n",
      "9352             USD  151000      United States        Mid-level   \n",
      "9353             USD  105000      United States      Entry-level   \n",
      "9354             USD  100000      United States      Entry-level   \n",
      "\n",
      "     employment_type work_setting company_location company_size  \n",
      "0          Full-time       Hybrid          Germany            L  \n",
      "1          Full-time    In-person    United States            M  \n",
      "2          Full-time    In-person    United States            M  \n",
      "3          Full-time    In-person    United States            M  \n",
      "4          Full-time    In-person    United States            M  \n",
      "...              ...          ...              ...          ...  \n",
      "9350       Full-time       Remote    United States            L  \n",
      "9351       Full-time       Remote    United States            L  \n",
      "9352       Full-time       Remote    United States            L  \n",
      "9353       Full-time       Remote    United States            S  \n",
      "9354        Contract       Remote    United States            L  \n",
      "\n",
      "[9355 rows x 11 columns]\n"
     ]
    }
   ],
   "source": [
    "data = pd.read_csv('Employee_Data.csv')\n",
    "print(data)"
   ]
  },
  {
   "cell_type": "markdown",
   "id": "bed999f0-ce1d-411d-a1df-f1a8f8abacb5",
   "metadata": {},
   "source": [
    "### Productivity by Experience Level"
   ]
  },
  {
   "cell_type": "code",
   "execution_count": 6,
   "id": "7b6079e1-4adb-4b53-afe4-a46280c4032d",
   "metadata": {},
   "outputs": [
    {
     "name": "stdout",
     "output_type": "stream",
     "text": [
      "                     avg_salary  employee_count\n",
      "experience_level                               \n",
      "Executive         188128.943060             281\n",
      "Senior            162260.680578            6709\n",
      "Mid-level         115987.527555            1869\n",
      "Entry-level        89363.784274             496\n"
     ]
    }
   ],
   "source": [
    "# Group by experience_level and calculate average salary as a proxy for productivity\n",
    "productivity_by_experience = data.groupby('experience_level').agg(\n",
    "    avg_salary=('salary', 'mean'),\n",
    "    employee_count=('job_title', 'count')\n",
    ").sort_values('avg_salary', ascending=False)\n",
    "\n",
    "print(productivity_by_experience)\n"
   ]
  },
  {
   "cell_type": "markdown",
   "id": "006f080f-3876-46a0-8ec8-116196440e1c",
   "metadata": {},
   "source": [
    "### Productivity by Experience Level"
   ]
  },
  {
   "cell_type": "code",
   "execution_count": 7,
   "id": "b95d96bf-aff7-450f-9457-dfe8d3201e76",
   "metadata": {},
   "outputs": [
    {
     "name": "stdout",
     "output_type": "stream",
     "text": [
      "                                   avg_salary  employee_count\n",
      "job_category                                                 \n",
      "Machine Learning and AI         179338.905462            1428\n",
      "Data Science and Research       163401.934970            3014\n",
      "Data Architecture and Modeling  155343.891892             259\n",
      "Cloud and Database              155000.000000               5\n",
      "Data Engineering                145588.369469            2260\n",
      "Leadership and Management       144164.409543             503\n",
      "BI and Visualization            135935.840256             313\n",
      "Data Analysis                   107801.471517            1457\n",
      "Data Management and Strategy    103085.950820              61\n",
      "Data Quality and Operations     100554.363636              55\n"
     ]
    }
   ],
   "source": [
    "# Group by job_category and calculate average salary and employee count\n",
    "engagement_by_category = data.groupby('job_category').agg(\n",
    "    avg_salary=('salary', 'mean'),\n",
    "    employee_count=('job_title', 'count')\n",
    ").sort_values('avg_salary', ascending=False)\n",
    "\n",
    "print(engagement_by_category)\n"
   ]
  },
  {
   "cell_type": "markdown",
   "id": "6bc48f32-6682-4474-80ea-e95a588182fa",
   "metadata": {},
   "source": [
    "### Geographical Influence on Productivity"
   ]
  },
  {
   "cell_type": "code",
   "execution_count": 9,
   "id": "bdac5835-2c5c-4387-a3e4-f6d9c22274ad",
   "metadata": {},
   "outputs": [
    {
     "name": "stdout",
     "output_type": "stream",
     "text": [
      "                       avg_salary\n",
      "employee_residence               \n",
      "Qatar               300000.000000\n",
      "Malaysia            200000.000000\n",
      "Denmark             200000.000000\n",
      "Puerto Rico         166000.000000\n",
      "United States       158586.128741\n",
      "...                           ...\n",
      "Serbia               21600.000000\n",
      "Costa Rica           20000.000000\n",
      "Honduras             20000.000000\n",
      "Ecuador              16000.000000\n",
      "Indonesia            15000.000000\n",
      "\n",
      "[83 rows x 1 columns]\n"
     ]
    }
   ],
   "source": [
    "# Group by employee_residence and calculate average salary\n",
    "productivity_by_residence = data.groupby('employee_residence').agg(\n",
    "    avg_salary=('salary', 'mean')\n",
    ").sort_values('avg_salary', ascending=False)\n",
    "\n",
    "print(productivity_by_residence)\n"
   ]
  },
  {
   "cell_type": "markdown",
   "id": "2c2730d0-aef5-4d1e-a83c-3ea9fb08fd3f",
   "metadata": {},
   "source": [
    "### Tenure and Engagement Trends"
   ]
  },
  {
   "cell_type": "code",
   "execution_count": 11,
   "id": "3bb1c2ea-2e77-47b9-bad8-ac95f3885d67",
   "metadata": {},
   "outputs": [
    {
     "name": "stdout",
     "output_type": "stream",
     "text": [
      "           avg_salary  employee_count\n",
      "tenure                               \n",
      "1       154695.679995            7453\n",
      "2       134957.181151            1634\n",
      "3       109297.050761             197\n",
      "4       106729.704225              71\n"
     ]
    }
   ],
   "source": [
    "# Add a tenure column\n",
    "data['tenure'] = 2024 - data['work_year']\n",
    "\n",
    "# Group by tenure and calculate average salary\n",
    "engagement_by_tenure = data.groupby('tenure').agg(\n",
    "    avg_salary=('salary', 'mean'),\n",
    "    employee_count=('job_title', 'count')\n",
    ").sort_values('tenure', ascending=True)\n",
    "\n",
    "print(engagement_by_tenure)\n"
   ]
  },
  {
   "cell_type": "markdown",
   "id": "2ca1a22b-1348-4b6c-9fba-f8ffa4a142d2",
   "metadata": {},
   "source": [
    "# Retention Strategy Recommendations using python"
   ]
  },
  {
   "cell_type": "markdown",
   "id": "5a5d2321-1e35-4dd3-bd3f-c69b7fb7ace8",
   "metadata": {},
   "source": [
    "### Preprocessing Data for Attrition Modeling"
   ]
  },
  {
   "cell_type": "code",
   "execution_count": 14,
   "id": "039e5e42-d422-4e4d-b015-7a88d316473d",
   "metadata": {},
   "outputs": [],
   "source": [
    "# Import necessary libraries\n",
    "import pandas as pd\n",
    "from sklearn.model_selection import train_test_split\n",
    "from sklearn.preprocessing import LabelEncoder\n",
    "from sklearn.ensemble import RandomForestClassifier\n",
    "from sklearn.metrics import classification_report, confusion_matrix\n",
    "\n",
    "# Load data (assuming 'attrition' column exists, with 1 for attrition and 0 for retention)\n",
    "data['attrition'] = data.get('attrition', 0)  # Placeholder for attrition column if not present\n",
    "\n",
    "# Encoding categorical variables\n",
    "label_encoders = {}\n",
    "categorical_columns = ['job_title', 'job_category', 'salary_currency', 'employee_residence', \n",
    "                        'experience_level', 'employment_type', 'work_setting', 'company_location', 'company_size']\n",
    "\n",
    "for column in categorical_columns:\n",
    "    le = LabelEncoder()\n",
    "    data[column] = le.fit_transform(data[column])\n",
    "    label_encoders[column] = le\n",
    "\n",
    "# Splitting the data into features and target\n",
    "X = data.drop(columns=['attrition'])\n",
    "y = data['attrition']\n",
    "\n",
    "# Train-test split\n",
    "X_train, X_test, y_train, y_test = train_test_split(X, y, test_size=0.3, random_state=42)\n"
   ]
  },
  {
   "cell_type": "markdown",
   "id": "f316242d-566a-4d50-bf43-2014ee8d6a79",
   "metadata": {},
   "source": [
    "#### Build A Model to Predict Attrition"
   ]
  },
  {
   "cell_type": "code",
   "execution_count": 15,
   "id": "415fbbfe-7e44-41aa-b271-c3611acc76b4",
   "metadata": {},
   "outputs": [
    {
     "name": "stdout",
     "output_type": "stream",
     "text": [
      "Confusion Matrix:\n",
      " [[2807]]\n",
      "\n",
      "Classification Report:\n",
      "               precision    recall  f1-score   support\n",
      "\n",
      "           0       1.00      1.00      1.00      2807\n",
      "\n",
      "    accuracy                           1.00      2807\n",
      "   macro avg       1.00      1.00      1.00      2807\n",
      "weighted avg       1.00      1.00      1.00      2807\n",
      "\n"
     ]
    }
   ],
   "source": [
    "# Train a Random Forest model\n",
    "rf_model = RandomForestClassifier(random_state=42)\n",
    "rf_model.fit(X_train, y_train)\n",
    "\n",
    "# Evaluate the model\n",
    "y_pred = rf_model.predict(X_test)\n",
    "\n",
    "print(\"Confusion Matrix:\\n\", confusion_matrix(y_test, y_pred))\n",
    "print(\"\\nClassification Report:\\n\", classification_report(y_test, y_pred))\n"
   ]
  },
  {
   "cell_type": "code",
   "execution_count": 16,
   "id": "a788f9dd-6d3e-4ba2-a49c-f39e023867d5",
   "metadata": {},
   "outputs": [],
   "source": [
    "#### Feature Importance Analysis"
   ]
  },
  {
   "cell_type": "markdown",
   "id": "afeccf4c-a5ba-4ce6-a9aa-522f50787557",
   "metadata": {},
   "source": [
    "### Feature Importance Analysis"
   ]
  },
  {
   "cell_type": "code",
   "execution_count": 22,
   "id": "6993431a-004d-4656-b1af-253412753f21",
   "metadata": {},
   "outputs": [
    {
     "name": "stderr",
     "output_type": "stream",
     "text": [
      "C:\\Users\\HP\\anaconda3\\Lib\\site-packages\\seaborn\\_oldcore.py:1119: FutureWarning: use_inf_as_na option is deprecated and will be removed in a future version. Convert inf values to NaN before operating instead.\n",
      "  with pd.option_context('mode.use_inf_as_na', True):\n",
      "C:\\Users\\HP\\anaconda3\\Lib\\site-packages\\seaborn\\_oldcore.py:1119: FutureWarning: use_inf_as_na option is deprecated and will be removed in a future version. Convert inf values to NaN before operating instead.\n",
      "  with pd.option_context('mode.use_inf_as_na', True):\n"
     ]
    },
    {
     "data": {
      "image/png": "[encoded data removed]",
      "text/plain": [
       "<Figure size 800x500 with 1 Axes>"
      ]
     },
     "metadata": {},
     "output_type": "display_data"
    }
   ],
   "source": [
    "# Analyze attrition by tenure\n",
    "import matplotlib.pyplot as plt\n",
    "import seaborn as sns\n",
    "tenure_attrition = data.groupby('tenure').agg(\n",
    "    attrition_rate=('attrition', 'mean'),\n",
    "    employee_count=('attrition', 'count')\n",
    ").reset_index()\n",
    "\n",
    "# Plot tenure vs. attrition rate\n",
    "plt.figure(figsize=(8, 5))\n",
    "sns.lineplot(data=tenure_attrition, x='tenure', y='attrition_rate', marker='o')\n",
    "plt.title('Attrition Rate by Tenure')\n",
    "plt.xlabel('Tenure (Years)')\n",
    "plt.ylabel('Attrition Rate')\n",
    "plt.show()\n"
   ]
  },
  {
   "cell_type": "code",
   "execution_count": null,
   "id": "4bae80f9-826b-4f00-9b14-88ddc435cec2",
   "metadata": {},
   "outputs": [],
   "source": []
  },
  {
   "cell_type": "code",
   "execution_count": null,
   "id": "29942473-c051-4732-9fcb-39de6164803b",
   "metadata": {},
   "outputs": [],
   "source": []
  }
 ],
 "metadata": {
  "kernelspec": {
   "display_name": "Python 3 (ipykernel)",
   "language": "python",
   "name": "python3"
  },
  "language_info": {
   "codemirror_mode": {
    "name": "ipython",
    "version": 3
   },
   "file_extension": ".py",
   "mimetype": "text/x-python",
   "name": "python",
   "nbconvert_exporter": "python",
   "pygments_lexer": "ipython3",
   "version": "3.11.7"
  }
 },
 "nbformat": 4,
 "nbformat_minor": 5
}
